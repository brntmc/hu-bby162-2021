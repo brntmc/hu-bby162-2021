{
  "nbformat": 4,
  "nbformat_minor": 0,
  "metadata": {
    "colab": {
      "name": "final.ipynb",
      "provenance": [],
      "authorship_tag": "ABX9TyMBotV75pw98XAtLLpFF2sz",
      "include_colab_link": true
    },
    "kernelspec": {
      "name": "python3",
      "display_name": "Python 3"
    },
    "language_info": {
      "name": "python"
    }
  },
  "cells": [
    {
      "cell_type": "markdown",
      "metadata": {
        "id": "view-in-github",
        "colab_type": "text"
      },
      "source": [
        "<a href=\"https://colab.research.google.com/github/brntmc/hu-bby162-2021/blob/main/final.ipynb\" target=\"_parent\"><img src=\"https://colab.research.google.com/assets/colab-badge.svg\" alt=\"Open In Colab\"/></a>"
      ]
    },
    {
      "cell_type": "markdown",
      "metadata": {
        "id": "2VYECuu54C2K"
      },
      "source": [
        "Final Programı\n"
      ]
    },
    {
      "cell_type": "code",
      "metadata": {
        "colab": {
          "base_uri": "https://localhost:8080/"
        },
        "id": "xMQOtECN4CM7",
        "outputId": "71530920-3d4d-4433-cffe-f0cbc371c31c"
      },
      "source": [
        "#Kütüphane otomasyonu\n",
        "\n",
        "def eserKaydet():\n",
        "  ad = input(\" Eser adını girin: \")\n",
        "  yazar = input(\" Yazar adını girin: \")\n",
        "  yayın = input(\" Yayınevini girin: \")\n",
        "  basım = input(\" Basım tarihini girin: \")\n",
        "  Isbn = input( \"ISBN numarasını girin: \")\n",
        "\n",
        "  dosya = \"/content/drive/MyDrive/Colab Notebooks/HU-BBY162-2021/final.txt.txt\"\n",
        "  f = open(dosya, 'a')\n",
        "  f.write(ad+ \",\" +yazar+ \".\" +yayın+ \",\" +basım+ \",\" +ISBN+ \"\\n\")\n",
        "  f.close()\n",
        "\n",
        "\n",
        "def menu():\n",
        "  print(\" * Kütüphane otomasyonu * \")\n",
        "  print(\" Not: Girişlerinizi küçük harfle yapın.\")\n",
        "  while True:\n",
        "    print(\"a- Eseri görüntüleyin\")\n",
        "    print(\"b- Eseri kaydedin\")\n",
        "    print(\"c- Çıkış yap.\")\n",
        "    islem = input(\"Yapmak istediğiniz işlemi seçin (a/c): \")\n",
        "    if islem == \"a\":\n",
        "      eserListesi()\n",
        "    elif islem == \"b\":\n",
        "      eserKaydet()\n",
        "    elif islem == \"c\":\n",
        "      print(\"çıkış yapın\")\n",
        "      break\n",
        "menu() "
      ],
      "execution_count": 5,
      "outputs": [
        {
          "output_type": "stream",
          "text": [
            " * Kütüphane otomasyonu * \n",
            " Not: Girişlerinizi küçük harfle yapın.\n",
            "a- Eseri görüntüleyin\n",
            "b- Eseri kaydedin\n",
            "c- Çıkış yap.\n",
            "Yapmak istediğiniz işlemi seçin (a/c): c\n",
            "çıkış yapın\n"
          ],
          "name": "stdout"
        }
      ]
    }
  ]
}